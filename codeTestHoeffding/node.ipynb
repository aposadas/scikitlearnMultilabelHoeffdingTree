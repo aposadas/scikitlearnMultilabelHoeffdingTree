{
 "cells": [
  {
   "cell_type": "markdown",
   "metadata": {},
   "source": [
    "# Node Class"
   ]
  },
  {
   "cell_type": "markdown",
   "metadata": {},
   "source": [
    "This class creates the nodes that construct a Hoeffding tree."
   ]
  },
  {
   "cell_type": "code",
   "execution_count": 1,
   "metadata": {
    "collapsed": true
   },
   "outputs": [],
   "source": [
    "# Standard library imports\n",
    "from numpy import *\n",
    "\n",
    "# Application specific imports\n",
    "from infogainsplitmetric import InfoGainSplitMetric\n",
    "from sklearn.naive_bayes import GaussianNB\n",
    "import numpy as np"
   ]
  },
  {
   "cell_type": "markdown",
   "metadata": {},
   "source": [
    "__init__: Default values of a Node, constructs a node."
   ]
  },
  {
   "cell_type": "code",
   "execution_count": 2,
   "metadata": {
    "collapsed": true
   },
   "outputs": [],
   "source": [
    "class Node():\n",
    "    \n",
    "    def __init__(self):\n",
    "        self.parent = None\n",
    "        self.children = None\n",
    "        self.map = None\n",
    "        self.statistics = None\n",
    "        self.first = 0\n",
    "        self.second = 0\n",
    "        self._min_frac_weight_for_two_branches_gain = 0.01\n",
    "        self.INFO_GAIN_SPLIT = 1\n",
    "        self._selected_split_metric = self.INFO_GAIN_SPLIT\n",
    "        self._split_confidence = 0.0000001\n",
    "        self._split_metric = InfoGainSplitMetric(self._min_frac_weight_for_two_branches_gain)\n",
    "        self.column_name_second  = None\n",
    "        self.column_name_first = None \n",
    "        self.tie_breaking = 0.05\n",
    "        self.confidence = 0.95\n",
    "        self.delta = 1-self.confidence\n",
    "        self.n = 0\n",
    "        self.number_of_classes = 0\n",
    "        self.splitCondition = None\n",
    "        self.activeNode = True\n",
    "        self.per_column = None"
   ]
  },
  {
   "cell_type": "markdown",
   "metadata": {},
   "source": [
    "__setParent__: Sets a node as parent."
   ]
  },
  {
   "cell_type": "code",
   "execution_count": 3,
   "metadata": {
    "collapsed": true
   },
   "outputs": [],
   "source": [
    "    def setParent(self,node):\n",
    "        self.parent = node"
   ]
  },
  {
   "cell_type": "markdown",
   "metadata": {},
   "source": [
    "__get_node_statistics__: Returns the node's statistics."
   ]
  },
  {
   "cell_type": "code",
   "execution_count": 4,
   "metadata": {
    "collapsed": true
   },
   "outputs": [],
   "source": [
    "    def get_node_statistics(self):\n",
    "        return self.statistics"
   ]
  },
  {
   "cell_type": "markdown",
   "metadata": {},
   "source": [
    "__compute_first_second_best__: Use the map to get the instance for every class and every attribute. The instances are saved in an array. Then, information gain is computed in order to obtain the attribute with the highest and second highest entropy.\n",
    "\n",
    "self.first is the attribute with highest entropy.\n",
    "self.second is the attribute with the second highest entropy."
   ]
  },
  {
   "cell_type": "code",
   "execution_count": 5,
   "metadata": {
    "collapsed": true
   },
   "outputs": [],
   "source": [
    "    def compute_first_second_best(self):\n",
    "        metric_temp = 0\n",
    "        metric_max = 0\n",
    "        self.first = 0\n",
    "        for key_attribute in self.map: \n",
    "            m2 = self.map[key_attribute]\n",
    "            for key_class in m2:  \n",
    "                column = [] \n",
    "                for key_instance in m2[key_class]:\n",
    "                    m3=m2[key_class]\n",
    "                    for count in range (0,m3[key_instance]):\n",
    "                        column.append(key_instance)\n",
    "                metric_temp = self._split_metric.get_metric_range(column)\n",
    "                if metric_max <= metric_temp:\n",
    "                    metric_max= metric_temp\n",
    "                    self.second=self.first\n",
    "                    self.first = metric_max\n",
    "                    self.column_name_second = self.column_name_first\n",
    "                    self.column_name_first = key_class\n",
    "                    self.n = len(column)"
   ]
  },
  {
   "cell_type": "markdown",
   "metadata": {},
   "source": [
    "__compute_hoeffding_bound__: Computes the hoeffding bound and returns its value."
   ]
  },
  {
   "cell_type": "code",
   "execution_count": 6,
   "metadata": {
    "collapsed": true
   },
   "outputs": [],
   "source": [
    "    def compute_hoeffding_bound(self, range, delta, n):\n",
    "        return math.sqrt(((range * range) * math.log(1.0 / delta)) / (2.0 * n))"
   ]
  },
  {
   "cell_type": "markdown",
   "metadata": {},
   "source": [
    "__comparison_entropies_hf_bound__: First computes the hoeffding bound with the numbers of clasess at the moment. Then, it subtracts the values of self.first and self.second. Lastly, it compares if the subtraction of the entropies is greater than the hoeffding bound. If so, then the node must split.\n",
    "\n",
    "Note: for the range of the variable, for information gain the range is log c, where c is the number of classes."
   ]
  },
  {
   "cell_type": "code",
   "execution_count": 8,
   "metadata": {
    "collapsed": true
   },
   "outputs": [],
   "source": [
    "    def comparison_entropies_hf_bound(self):\n",
    "        c = math.log(self.number_of_classes)\n",
    "        hoeffding_bound = self.compute_hoeffding_bound(c,self.delta, self.n)\n",
    "        entropy_Xa_Xb = self.first - self.second\n",
    "        if (entropy_Xa_Xb > hoeffding_bound): ##tie_breaking recommended in MO\n",
    "            print('split')\n",
    "            self.split(self.column_name_first)"
   ]
  },
  {
   "cell_type": "markdown",
   "metadata": {},
   "source": [
    "__split__: Process of spliting a node, for each y in the map it is created a node classified as child. Each child  is loaded with its belonging statistics."
   ]
  },
  {
   "cell_type": "code",
   "execution_count": 9,
   "metadata": {
    "collapsed": true
   },
   "outputs": [],
   "source": [
    "    def split(self,column_name):\n",
    "        self.splitCondition = column_name\n",
    "        self.children = {}\n",
    "        self.activeNode = False\n",
    "        previous = 0\t\n",
    "        for y_val in self.map:\n",
    "                for j_val in self.map[y_val][column_name]:\n",
    "                    child = Node()\n",
    "                    self.children[j_val]=child\n",
    "                    child_map = {}\n",
    "                    child_statistics = {y_val:{}}\n",
    "                    for element in self.statistics[y_val][column_name][j_val]:\t\t\t\n",
    "                        for k in self.map[y_val]:\n",
    "                            if k != self.column_name_first:\n",
    "                                for k_val  in  self.statistics[y_val][k]: ##add one\n",
    "                                    if element in self.statistics[y_val][k][k_val]:\n",
    "                                        if k not in child_statistics[y_val]:\n",
    "                                            child_statistics[y_val] = {k:{}}\n",
    "                                        if k_val not in child_statistics[y_val][k]:\n",
    "                                            child_statistics[y_val][k]={k_val:1}\n",
    "                                        else:\n",
    "                                            child_statistics[y_val][k][k_val]+=1\n",
    "                    self.children[j_val].set_statistics(self.map.copy(),child_statistics.copy())"
   ]
  },
  {
   "cell_type": "markdown",
   "metadata": {},
   "source": [
    "__set_statistics__: Adds a map and statistics."
   ]
  },
  {
   "cell_type": "code",
   "execution_count": 10,
   "metadata": {
    "collapsed": true
   },
   "outputs": [],
   "source": [
    "    # Temporary: Need to add the real map and statistics\n",
    "    def set_statistics(self,map,statistics):\n",
    "        self.map = None\n",
    "        self.statistics = None"
   ]
  },
  {
   "cell_type": "markdown",
   "metadata": {},
   "source": [
    "__predict__"
   ]
  },
  {
   "cell_type": "code",
   "execution_count": 11,
   "metadata": {
    "collapsed": true
   },
   "outputs": [],
   "source": [
    "    def predict(self, x): ##TO DO in Scikit learn\n",
    "        N = x.shape\n",
    "        L = len(x[0])-1\n",
    "        #Y_prev = zeros((N,L) \n",
    "        gnb = GaussianNB()\t\n",
    "        if self.activeNode:\n",
    "            for i in range(0,L):\n",
    "                Y = self.gnb.predict(np.asmatrix(x[i, :]))\n",
    "            return Y"
   ]
  },
  {
   "cell_type": "markdown",
   "metadata": {},
   "source": [
    "__update_statistics__: This method fits the x and y, if the node is active then the statistics are updating according the values of x an y. It is also invoked for obtaing the first and second best. If is not an active node, it goes to the child leaves and recursively is called again the method."
   ]
  },
  {
   "cell_type": "code",
   "execution_count": 12,
   "metadata": {
    "collapsed": true
   },
   "outputs": [],
   "source": [
    "    def update_statistics(self,x,y):\n",
    "        self.number_of_classes = len(x[0])-1\n",
    "        if self.activeNode:\n",
    "            if self.statistics is None:\n",
    "                self.statistics = {}\n",
    "            if self.map is None:\n",
    "                self.map = {}\n",
    "            for i in range(len(y)):\n",
    "                if str(i) not in self.map:\n",
    "                        self.map[str(i)] = {}\n",
    "                if str(i) not in self.statistics:\n",
    "                        self.statistics[str(i)] = {}\n",
    "                for j in range(len(x[0])-1):\n",
    "                    value = x[0][j]\n",
    "\n",
    "                    if str(j) not in self.statistics[str(i)]:\n",
    "                        l = []\n",
    "                        l.append(self.n)\n",
    "                        self.statistics[str(i)][str(j)]={str(value):l}\n",
    "                    else:\n",
    "                        if str(value) not in self.statistics[str(i)][str(j)]:\n",
    "                            l = []\n",
    "                            l.append(self.n)\n",
    "                            self.statistics[str(i)][str(j)]={str(value):l}\n",
    "                        else:\n",
    "                            self.statistics[str(i)][str(j)][str(value)].append(self.n)\n",
    "\n",
    "                    if str(j) not in self.map[str(i)]:\n",
    "                        self.map[str(i)][str(j)]={str(value):1}\n",
    "                    else:\n",
    "                        if str(value) not in self.map[str(i)][str(j)]:\n",
    "                            self.map[str(i)][str(j)]={str(value):1}\n",
    "                        else:\n",
    "                            self.map[str(i)][str(j)][str(value)]+=1\n",
    "\n",
    "            self.compute_first_second_best()\n",
    "            self.comparison_entropies_hf_bound()\n",
    "        else:\n",
    "            to_transfer = x[0][int(self.splitCondition)]\n",
    "            x[0][int(self.splitCondition)]\n",
    "            try:\n",
    "                self.children[str(to_transfer)].update_statistics(x,y)\n",
    "            except KeyError:\n",
    "                child = Node()\n",
    "                self.children[str(to_transfer)]=child\n",
    "                self.children[str(to_transfer)].update_statistics(x,y)"
   ]
  },
  {
   "cell_type": "code",
   "execution_count": null,
   "metadata": {
    "collapsed": true
   },
   "outputs": [],
   "source": []
  }
 ],
 "metadata": {
  "anaconda-cloud": {},
  "kernelspec": {
   "display_name": "Python 3",
   "language": "python",
   "name": "python3"
  },
  "language_info": {
   "codemirror_mode": {
    "name": "ipython",
    "version": 3
   },
   "file_extension": ".py",
   "mimetype": "text/x-python",
   "name": "python",
   "nbconvert_exporter": "python",
   "pygments_lexer": "ipython3",
   "version": "3.5.2"
  }
 },
 "nbformat": 4,
 "nbformat_minor": 1
}
