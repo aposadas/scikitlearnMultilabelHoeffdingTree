{
 "cells": [
  {
   "cell_type": "markdown",
   "metadata": {},
   "source": [
    "# Hoeffding Tree Classifier"
   ]
  },
  {
   "cell_type": "markdown",
   "metadata": {},
   "source": [
    "This class classifies a Hoeffding Tree and initializate its structure."
   ]
  },
  {
   "cell_type": "code",
   "execution_count": 2,
   "metadata": {
    "collapsed": true
   },
   "outputs": [],
   "source": [
    "# Standard library imports\n",
    "from numpy import *\n",
    "\n",
    "# Application specific imports\n",
    "from molearn.classifiers.PS import PS\n",
    "from sklearn.tree import DecisionTreeClassifier\n",
    "from infogainsplitmetric import InfoGainSplitMetric\n",
    "\n",
    "# Local imports\n",
    "from node import Node"
   ]
  },
  {
   "cell_type": "markdown",
   "metadata": {},
   "source": [
    "__init__: Constructor of the class, contains essential parameters for the Hoeffding Tree creation."
   ]
  },
  {
   "cell_type": "code",
   "execution_count": 3,
   "metadata": {
    "collapsed": true
   },
   "outputs": [],
   "source": [
    "class HoeffdingTreeClassifier:\n",
    "\n",
    "    def __init__(self):\n",
    "        self.root = None\n",
    "        j_max = 0\n",
    "        L = -1\n",
    "        self._min_frac_weight_for_two_branches_gain = 0.01\n",
    "        self.INFO_GAIN_SPLIT = 1\n",
    "        self._selected_split_metric = self.INFO_GAIN_SPLIT\n",
    "        self._split_confidence = 0.0000001\n",
    "        self._split_metric = InfoGainSplitMetric(self._min_frac_weight_for_two_branches_gain)\n",
    "        self.current  = None"
   ]
  },
  {
   "cell_type": "markdown",
   "metadata": {},
   "source": [
    "__fit__: Creates an empty tree and adds the x to it."
   ]
  },
  {
   "cell_type": "code",
   "execution_count": 4,
   "metadata": {
    "collapsed": true
   },
   "outputs": [],
   "source": [
    "    def fit(self, X, Y):\n",
    "        N, self.L = Y.shape\n",
    "        Y_sum = sum(Y,axis=0)\n",
    "        self.j_max = argmax(Y_sum)\n",
    "        return self"
   ]
  },
  {
   "cell_type": "markdown",
   "metadata": {},
   "source": [
    "__split_verification__"
   ]
  },
  {
   "cell_type": "code",
   "execution_count": 5,
   "metadata": {
    "collapsed": true
   },
   "outputs": [],
   "source": [
    "    def split_verification(self):\n",
    "        return None"
   ]
  },
  {
   "cell_type": "markdown",
   "metadata": {},
   "source": [
    "__partial_fit__: Constructs the root node. If it has not been created, it fills the statistics of the root node. In  case there is already a root node, then it is called to update the statistics for the node."
   ]
  },
  {
   "cell_type": "code",
   "execution_count": 6,
   "metadata": {
    "collapsed": true
   },
   "outputs": [],
   "source": [
    "    def partial_fit(self, x, y=None):\n",
    "        if self.root is None:  \n",
    "            self.root = Node()\n",
    "            self.current = self.root\n",
    "            self.root.update_statistics(x,y)\n",
    "        self.root.update_statistics(x,y)\t\n",
    "        return self"
   ]
  },
  {
   "cell_type": "markdown",
   "metadata": {},
   "source": [
    "__predict__: Calls the prediction of the node."
   ]
  },
  {
   "cell_type": "code",
   "execution_count": 7,
   "metadata": {
    "collapsed": true
   },
   "outputs": [],
   "source": [
    "    def predict(self, X):\n",
    "        N,D = X.shape\n",
    "        Y = zeros((N,self.L))\n",
    "        Y[:,self.j_max] = 1\n",
    "        #Y = self.node.predict(X)\n",
    "        return Y"
   ]
  },
  {
   "cell_type": "code",
   "execution_count": null,
   "metadata": {
    "collapsed": true
   },
   "outputs": [],
   "source": []
  }
 ],
 "metadata": {
  "anaconda-cloud": {},
  "kernelspec": {
   "display_name": "Python 3",
   "language": "python",
   "name": "python3"
  },
  "language_info": {
   "codemirror_mode": {
    "name": "ipython",
    "version": 3
   },
   "file_extension": ".py",
   "mimetype": "text/x-python",
   "name": "python",
   "nbconvert_exporter": "python",
   "pygments_lexer": "ipython3",
   "version": "3.5.2"
  }
 },
 "nbformat": 4,
 "nbformat_minor": 1
}
