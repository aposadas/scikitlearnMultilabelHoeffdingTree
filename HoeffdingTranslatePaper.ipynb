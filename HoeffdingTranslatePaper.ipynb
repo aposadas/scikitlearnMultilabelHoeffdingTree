{
 "cells": [
  {
   "cell_type": "code",
   "execution_count": 47,
   "metadata": {
    "collapsed": false
   },
   "outputs": [],
   "source": [
    "import numpy as np\n",
    "import math\n",
    "import random\n",
    "\n",
    "def calculateHoeffdingBound(r,delta,n):\n",
    "    var0 = 1/delta\n",
    "    var1 = np.power(r,2)\n",
    "    var2 = math.log(var0)\n",
    "    var3 = 2*n\n",
    "    var4 = (var1*var2)/var3\n",
    "    var5 = np.sqrt(var4)\n",
    "    return var5\n"
   ]
  },
  {
   "cell_type": "code",
   "execution_count": 48,
   "metadata": {
    "collapsed": false
   },
   "outputs": [
    {
     "name": "stdout",
     "output_type": "stream",
     "text": [
      "0.0859858705019\n"
     ]
    }
   ],
   "source": [
    "print(calculateHoeffdingBound(0.8,0.5,30))"
   ]
  },
  {
   "cell_type": "code",
   "execution_count": 49,
   "metadata": {
    "collapsed": true
   },
   "outputs": [],
   "source": [
    "class Tree(object):\n",
    "    \n",
    "    def __init__(self):\n",
    "        self.l1 = None\n",
    "        self.l2 = None\n",
    "        self.predicate = None\n",
    "    \n",
    "    def printTree(self):\n",
    "        print(self.predicate)\n",
    "        if self.l1:\n",
    "            self.l1.printTree()\n",
    "        if self.l2:\n",
    "            self.l2.printTree()\n",
    "\n",
    "def gini(x):\n",
    "    # Mean absolute difference\n",
    "    #mad = np.abs(np.subtract.outer(x, x)).mean()\n",
    "    # Relative mean absolute difference\n",
    "    #rmad = mad/np.mean(x)\n",
    "    # Gini coefficient\n",
    "    return random.uniform(0, 1)"
   ]
  },
  {
   "cell_type": "code",
   "execution_count": 50,
   "metadata": {
    "collapsed": false
   },
   "outputs": [
    {
     "name": "stdout",
     "output_type": "stream",
     "text": [
      "None\n",
      "None\n",
      "0.6479990384286068\n"
     ]
    }
   ],
   "source": [
    "hoeffdingTree([[50,'yes',1],[45,'yes',1],[45,'no',2]],['column1','column2','column3','result1','result2'],[[0,1],[1,1],[0,1]],gini,1)"
   ]
  },
  {
   "cell_type": "code",
   "execution_count": null,
   "metadata": {
    "collapsed": true
   },
   "outputs": [],
   "source": [
    "# Inputs:\n",
    "# S is a sequence of n examples (x, y), \n",
    "# X is a set of discrete attributes,\n",
    "# G(.) is a split evaluation function,\n",
    "# δ is one minus the desired probability of choosing the correct attribute at any given node.\n",
    "\n",
    "# Output:\n",
    "# HT is a decision tree.\n",
    "\n",
    "# Heuristic measure\n",
    "def G(X):\n",
    "    \n",
    "    \n",
    "    \n",
    "# Procedure HoeffdingTree (S, X, G, δ)\n",
    "# r and n to calculate hoeffding bound\n",
    "# S = data\n",
    "# What is X????\n",
    "def hoeffdingTree(data, X, r, delta, n):\n",
    "    # Let HT be a tree with a single leaf l1 (the root). \n",
    "    ht = Tree()\n",
    "    \n",
    "    # Let X1 = X ∪ {X∅}.\n",
    "    x_0 = 'null'\n",
    "    x_1 = X + x_0\n",
    "    # Let G1(X∅) be the G obtained by predicting the most frequent class in S. \n",
    "    \n",
    "    y_df = data['y']\n",
    "    X_df = data.drop('y', axis=1)\n",
    "    \n",
    "    # For each class yk\n",
    "    for y_k in y_df:\n",
    "        # For each value xij of each attribute Xi ∈ X \n",
    "        # i -> instance number\n",
    "        # j -> attribute number\n",
    "        for x_ij in \n",
    "            # Let nijk(l1) = 0.\n",
    "            n(i, j, k, l_1) = 0\n",
    "    \n",
    "    # For each example (x,yk) in S\n",
    "        # Sort (x,y) into a leaf l using HT. \n",
    "        # For each xij in x such that Xi ∈ Xl\n",
    "            # Increment nijk(l).\n",
    "            n(i, j, k, l) = n(i, j, k, l) + 1\n",
    "        # Label l with the majority class among the examples seen so far at l.\n",
    "        # If the examples seen so far at l are not all of the same class, then\n",
    "            # Compute Gl(Xi) for each attribute Xi ∈ Xl − {X∅} using the counts nijk(l).\n",
    "            \n",
    "        # Let Xa be the attribute with highest Gl.\n",
    "        x_a = \n",
    "        # Let Xb be the attribute with second-highest Gl. \n",
    "        x_b = \n",
    "        # Compute ε using Equation 1.\n",
    "        epsilon = calculateHoeffdingBound(r, delta, n)\n",
    "        \n",
    "        # If Gl(Xa) − Gl(Xb) > ε and Xa ̸= X∅, then\n",
    "        if(G(x_a) - G(x_b) > epsilon and x_a != x_0):\n",
    "            \n",
    "            # Replace l by an internal node that splits on Xa. \n",
    "            # For each branch of the split\n",
    "                # Add a new leaf lm\n",
    "                \n",
    "                # Let Xm =X−{Xa}. \n",
    "                x_m = X - x_a\n",
    "                #Let Gm(X∅) be the G obtained by predicting the most frequent class at lm.\n",
    "                # For each class yk and each value xij of each attribute Xi ∈ Xm − {X∅} \n",
    "                    #Let nijk(lm) = 0.\n",
    "                    n(i, j, k, l_m) = 0\n",
    "    \n",
    "    # Return HT\n",
    "    return ht"
   ]
  }
 ],
 "metadata": {
  "anaconda-cloud": {},
  "kernelspec": {
   "display_name": "Python [Root]",
   "language": "python",
   "name": "Python [Root]"
  },
  "language_info": {
   "codemirror_mode": {
    "name": "ipython",
    "version": 3
   },
   "file_extension": ".py",
   "mimetype": "text/x-python",
   "name": "python",
   "nbconvert_exporter": "python",
   "pygments_lexer": "ipython3",
   "version": "3.5.2"
  }
 },
 "nbformat": 4,
 "nbformat_minor": 0
}
